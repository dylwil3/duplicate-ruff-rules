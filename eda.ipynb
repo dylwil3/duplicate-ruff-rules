{
 "cells": [
  {
   "cell_type": "code",
   "execution_count": 111,
   "metadata": {},
   "outputs": [],
   "source": [
    "import json\n",
    "from pathlib import Path\n",
    "from typing import NamedTuple\n",
    "import itertools"
   ]
  },
  {
   "cell_type": "code",
   "execution_count": 112,
   "metadata": {},
   "outputs": [],
   "source": [
    "datapath = Path(\"raw_outputs.json\")\n",
    "data = json.loads(datapath.read_text())"
   ]
  },
  {
   "cell_type": "code",
   "execution_count": 113,
   "metadata": {},
   "outputs": [],
   "source": [
    "class CheckLocation(NamedTuple):\n",
    "    filename: str\n",
    "    start_row: int\n",
    "    end_row:int\n",
    "\n",
    "profiles: dict[str,set[NamedTuple]] = {}\n",
    "for datum in data:\n",
    "    code = datum['code']\n",
    "    if code not in profiles:\n",
    "        profiles[code] = set()\n",
    "    profiles[code].add(\n",
    "        CheckLocation(\n",
    "            filename=datum['filename'],\n",
    "            start_row=datum['location']['row'],\n",
    "            end_row=datum['end_location']['row']\n",
    "        )\n",
    "    )"
   ]
  },
  {
   "cell_type": "code",
   "execution_count": 114,
   "metadata": {},
   "outputs": [],
   "source": [
    "def iou(set0:set,set1:set)->float:\n",
    "    ints = set0.intersection(set1)\n",
    "    un = set0.union(set1)\n",
    "    if un:\n",
    "        return round(len(ints)/len(un),3)*100\n",
    "    else:\n",
    "        return 0.0"
   ]
  },
  {
   "cell_type": "code",
   "execution_count": 115,
   "metadata": {},
   "outputs": [],
   "source": [
    "ious_by_pair = {\n",
    "    (x,y):iou(profiles[x],profiles[y])\n",
    "    for x,y in itertools.combinations(profiles,2)\n",
    "}"
   ]
  },
  {
   "cell_type": "code",
   "execution_count": 116,
   "metadata": {},
   "outputs": [],
   "source": [
    "candidates = sorted([\n",
    "    (a,v) for a,v in ious_by_pair.items()\n",
    "], key=lambda x:x[1], reverse=True)"
   ]
  },
  {
   "cell_type": "code",
   "execution_count": 118,
   "metadata": {},
   "outputs": [],
   "source": [
    "matches = []\n",
    "for code in profiles:\n",
    "    for other_code in profiles:\n",
    "        if code!=other_code and profiles[code] == profiles[other_code]:\n",
    "            matches.append((code,other_code))"
   ]
  },
  {
   "cell_type": "code",
   "execution_count": 119,
   "metadata": {},
   "outputs": [
    {
     "data": {
      "text/plain": [
       "[]"
      ]
     },
     "execution_count": 119,
     "metadata": {},
     "output_type": "execute_result"
    }
   ],
   "source": [
    "matches"
   ]
  },
  {
   "cell_type": "code",
   "execution_count": 120,
   "metadata": {},
   "outputs": [
    {
     "data": {
      "text/plain": [
       "[(('D400', 'D415'), 94.19999999999999),\n",
       " (('INP001', 'D100'), 73.1),\n",
       " (('TD003', 'FIX002'), 71.8),\n",
       " (('F509', 'PLE1300'), 66.7),\n",
       " (('TD001', 'FIX001'), 64.7),\n",
       " (('ANN201', 'D103'), 63.9),\n",
       " (('PTH101', 'S103'), 63.6),\n",
       " (('TD003', 'TD002'), 60.3),\n",
       " (('G004', 'TRY401'), 53.300000000000004),\n",
       " (('FIX002', 'TD002'), 50.7)]"
      ]
     },
     "execution_count": 120,
     "metadata": {},
     "output_type": "execute_result"
    }
   ],
   "source": [
    "candidates[:10]"
   ]
  }
 ],
 "metadata": {
  "kernelspec": {
   "display_name": ".venv",
   "language": "python",
   "name": "python3"
  },
  "language_info": {
   "codemirror_mode": {
    "name": "ipython",
    "version": 3
   },
   "file_extension": ".py",
   "mimetype": "text/x-python",
   "name": "python",
   "nbconvert_exporter": "python",
   "pygments_lexer": "ipython3",
   "version": "3.11.5"
  }
 },
 "nbformat": 4,
 "nbformat_minor": 2
}
